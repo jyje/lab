{
 "cells": [
  {
   "cell_type": "markdown",
   "metadata": {},
   "source": [
    "# Hello .NET Interactive\n",
    "> Simply test for dotnet interactive\n",
    "\n",
    "- toc: true \n",
    "- badges: true\n",
    "- comments: true\n",
    "- categories: [dotnet, json]\n",
    "- image: "
   ]
  },
  {
   "cell_type": "markdown",
   "metadata": {},
   "source": [
    "You can test C#/.NET with jupyter notebook. If you want to import some nuget packages from online. Just add like this:"
   ]
  },
  {
   "cell_type": "code",
   "execution_count": 1,
   "metadata": {
    "dotnet_interactive": {
     "language": "csharp"
    },
    "vscode": {
     "languageId": "dotnet-interactive.csharp"
    }
   },
   "outputs": [
    {
     "data": {
      "text/html": [
       "<div><div></div><div></div><div><strong>Installed Packages</strong><ul><li><span>Newtonsoft.Json, 13.0.1</span></li></ul></div></div>"
      ]
     },
     "metadata": {},
     "output_type": "display_data"
    }
   ],
   "source": [
    "#r \"nuget: Newtonsoft.Json\"\n",
    "//#r \"nuget: Newtonsoft.Json\""
   ]
  },
  {
   "cell_type": "markdown",
   "metadata": {},
   "source": [
    "I wrote a code that simply expresses the period I studied '.Net'."
   ]
  },
  {
   "cell_type": "code",
   "execution_count": 11,
   "metadata": {
    "dotnet_interactive": {
     "language": "csharp"
    },
    "vscode": {
     "languageId": "dotnet-interactive.csharp"
    }
   },
   "outputs": [
    {
     "name": "stdout",
     "output_type": "stream",
     "text": [
      "json:\n",
      "{\r\n",
      "  \"content\": \".NET study\",\r\n",
      "  \"years\": [\r\n",
      "    2016,\r\n",
      "    2017,\r\n",
      "    2018,\r\n",
      "    2019,\r\n",
      "    2020,\r\n",
      "    2021,\r\n",
      "    2022\r\n",
      "  ]\r\n",
      "}\r\n"
     ]
    }
   ],
   "source": [
    "using Newtonsoft.Json.Linq;\n",
    "\n",
    "DateTime begin = new(2016,3,1);\n",
    "DateTime now = DateTime.Now;\n",
    "var years = Enumerable.Range(begin.Year, now.Year-begin.Year+1);\n",
    "\n",
    "JObject json = new()\n",
    "{\n",
    "    [\"content\"] = \".NET study\",\n",
    "    [\"years\"] = JArray.FromObject(years),\n",
    "};\n",
    "\n",
    "Console.WriteLine($\"{nameof(json)}:\\n{json}\");"
   ]
  }
 ],
 "metadata": {
  "kernelspec": {
   "display_name": ".NET (C#)",
   "language": "C#",
   "name": ".net-csharp"
  },
  "language_info": {
   "file_extension": ".cs",
   "mimetype": "text/x-csharp",
   "name": "C#",
   "pygments_lexer": "csharp",
   "version": "9.0"
  },
  "orig_nbformat": 4
 },
 "nbformat": 4,
 "nbformat_minor": 2
}
